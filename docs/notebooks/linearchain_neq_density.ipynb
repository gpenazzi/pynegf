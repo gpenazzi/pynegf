{
 "cells": [
  {
   "cell_type": "markdown",
   "metadata": {},
   "source": [
    "Non-equilibrium density with dephasing in a linear chain\n",
    "==============================================\n",
    "\n",
    "In this example we calculate the non-equilibrium density for a linear chain adding an [electron-phonon elastic  dephasing model](https://doi.org/10.1021/acs.jpcc.6b04185).   "
   ]
  },
  {
   "cell_type": "code",
   "execution_count": null,
   "metadata": {},
   "outputs": [],
   "source": [
    "import numpy\n",
    "import pynegf\n",
    "import scipy\n",
    "import matplotlib.pyplot as plt\n",
    "from scipy import sparse"
   ]
  },
  {
   "cell_type": "markdown",
   "metadata": {},
   "source": [
    "We define the hamiltonian for a linear chain similar to other example."
   ]
  },
  {
   "cell_type": "code",
   "execution_count": null,
   "metadata": {},
   "outputs": [],
   "source": [
    "def orthogonal_linear_chain(nsites=100, contact_size=2, coupling=1.0):\n",
    "    mat = numpy.zeros(shape=(nsites, nsites), dtype='complex128')\n",
    "\n",
    "    for i in range(nsites - contact_size):\n",
    "        mat[i - 1, i] = coupling\n",
    "    for i in range(nsites - contact_size, nsites):\n",
    "        mat[i - 1, i] = coupling\n",
    "    mat[0, nsites - contact_size] = coupling\n",
    "    \n",
    "    mat_csr = sparse.csr_matrix(mat)\n",
    "    mat_csr = mat_csr + mat_csr.getH()\n",
    "    mat_csr.sort_indices()\n",
    "\n",
    "    return mat_csr\n",
    "\n",
    "ideal_hamiltonian = orthogonal_linear_chain()\n",
    "\n",
    "ham = ideal_hamiltonian.copy()"
   ]
  },
  {
   "cell_type": "markdown",
   "metadata": {},
   "source": [
    "We define the system structure in the same way as in the previous examples.  "
   ]
  },
  {
   "cell_type": "markdown",
   "metadata": {},
   "source": [
    "The non-equilibrium calculation is very similar to the [equilibrium case](linearchain_density.html). We need to add a real-axis integration which covers energy point between the minimum and maximum electrode chemical potentials. The energy point density should be smaller than the thermal broadening, otherwise electronic structure features which are sharp in energy like resonant levels might be missed. \n",
    "\n",
    "Note that we are setting a small chemical potential and this example is a basic proof of concept. In a realistic calculation we need to properly ensure consistency between the imposed boundary conditions and the chemical potential, and possibly solve self-consistently with a poisson solver. \n",
    "\n",
    "We will solve the density for different coupling with the dephasing bath and look at the carrier density along the chain. "
   ]
  },
  {
   "cell_type": "code",
   "execution_count": null,
   "metadata": {},
   "outputs": [],
   "source": [
    "for coupling in [0.0, 0.05, 0.1]:\n",
    "    negf = pynegf.PyNegf()\n",
    "    negf.set_hamiltonian(ham)\n",
    "    negf.set_identity_overlap(100)\n",
    "    negf.init_structure(\n",
    "        ncont=2,\n",
    "        contend=numpy.array([97, 99]),\n",
    "        surfend=numpy.array([95, 97]))\n",
    "    negf.params.ec = -3.5\n",
    "    negf.params.kbt_dm = (.01, .01)\n",
    "    negf.params.g_spin = 2.0\n",
    "    negf.params.mu[0] = -0.05\n",
    "    negf.params.mu[1] = 0.05\n",
    "    # Not correctly initialized, setting explicitely.\n",
    "    negf.params.np_real = tuple([200] * 11)\n",
    "    # Only the first value is used.\n",
    "    #negf.params.np_real[0] = 200\n",
    "    negf.params.verbose = 100\n",
    "    negf.set_params()\n",
    "    negf.set_diagonal_elph_dephasing(numpy.array([coupling]*100))\n",
    "    negf.solve_density()\n",
    "    density_matrix = negf.density_matrix()\n",
    "    diagonal = numpy.real(density_matrix.diagonal())\n",
    "    plt.plot(diagonal[:96], label='Coupling {}'.format(coupling))\n",
    "    plt.legend()\n",
    "    plt.grid()\n",
    "plt.show()"
   ]
  },
  {
   "cell_type": "markdown",
   "metadata": {},
   "source": [
    "The electron-phonon dephasing model introduces back-scattering in the system and the non-equilibrium component of the density decreases linearly along the chain."
   ]
  },
  {
   "cell_type": "code",
   "execution_count": null,
   "metadata": {},
   "outputs": [],
   "source": []
  },
  {
   "cell_type": "code",
   "execution_count": null,
   "metadata": {},
   "outputs": [],
   "source": []
  }
 ],
 "metadata": {
  "kernelspec": {
   "display_name": "Python 3",
   "language": "python",
   "name": "python3"
  },
  "language_info": {
   "codemirror_mode": {
    "name": "ipython",
    "version": 3
   },
   "file_extension": ".py",
   "mimetype": "text/x-python",
   "name": "python",
   "nbconvert_exporter": "python",
   "pygments_lexer": "ipython3",
   "version": "3.7.6"
  }
 },
 "nbformat": 4,
 "nbformat_minor": 2
}
