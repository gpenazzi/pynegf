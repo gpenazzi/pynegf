{
 "cells": [
  {
   "cell_type": "markdown",
   "metadata": {},
   "source": [
    "Transmission of a linear chain\n",
    "==============================\n",
    "\n",
    "In this example we will show the basic features of pynegf by calculating the transmission across an ideal linear chain.\n",
    "First, we import all the necessary modules."
   ],
   "execution_count": null,
   "outputs": []
  },
  {
   "cell_type": "code",
   "execution_count": null,
   "metadata": {},
   "outputs": [],
   "source": [
    "import numpy\n",
    "import pynegf\n",
    "import scipy\n",
    "#%matplotlib notebook  #Uncomment for inline plots.\n",
    "import matplotlib.pyplot as plt\n",
    "from scipy import sparse"
   ]
  },
  {
   "cell_type": "markdown",
   "metadata": {},
   "source": [
    "Then we define an hamiltonian for our system. We will construct a simple model hamiltonian for a nearest neighbour linear chain. In constructing the hamiltonian we need to follow some strict ordering rules:\n",
    "\n",
    "- First the hamiltonian of the device region is specified.\n",
    "- Then the hamiltonian of each contact follows. A contact hamiltonian must consist of 2 principal layers per electrode.\n",
    "\n",
    "A principal layer is the block-generalized version of a nearest neighbour tight binding site. A well defined principal layers have only non-zero interaction with first-neighbour principal layers. The concept of principal layer is well described in the [dftb manual](https://www.dftbplus.org/fileadmin/DFTBPLUS/public/dftbplus/latest/manual.pdf), a code which utilizes libnegf.\n",
    "\n",
    "In this example we will construct an hamiltonian with 60 device sites and contacts with 10 sites per principal layer. Note the interaction `[0, 80], [80, 0]`. We need this because the contact specified last is interacting with the first site of the device region. "
   ],
   "execution_count": null,
   "outputs": []
  },
  {
   "cell_type": "code",
   "execution_count": null,
   "metadata": {},
   "outputs": [],
   "source": [
    "def orthogonal_linear_chain(nsites=100, contact_size=20, coupling=1.0):\n",
    "    mat = numpy.zeros(shape=(nsites, nsites), dtype='complex128')\n",
    "\n",
    "    for i in range(nsites - contact_size):\n",
    "        mat[i - 1, i] = coupling\n",
    "    for i in range(nsites - contact_size, nsites):\n",
    "        mat[i - 1, i] = coupling\n",
    "    mat[0, nsites - contact_size] = coupling\n",
    "\n",
    "    mat_csr = sparse.csr_matrix(mat)\n",
    "    mat_csr = mat_csr + mat_csr.conjugate(copy=True).transpose()\n",
    "    mat_csr.sort_indices()\n",
    "\n",
    "    return mat_csr\n",
    "\n",
    "mat_csr = orthogonal_linear_chain()"
   ]
  },
  {
   "cell_type": "markdown",
   "metadata": {},
   "source": [
    "Next, we define an instance of PyNegf, set the hamiltonian and overlap and the relevant PyNegf parameters.\n",
    "Note that we set an identity overlap with a specific function, but we can set any overlap following the same rules as for the hamiltonian. \n",
    "Then we provide structure information with `init_structure`.\n",
    "In `init_structure` we specify (in fortran indexing):\n",
    "- The number of contacts\n",
    "- The index where the contacts end\n",
    "- The index where the device surface interacting with the contact end (i.e., the beginning of the contact - 1)\n",
    "- Indices where principal layers of the device region end. If omitted, libnegf will determine automatically a partitioning. This feature is currently only supported for systems with 2 electrodes. \n",
    "- The blocks interacting with the contacts. This option can be omitted if `plend` is not specified, as it will not be used. "
   ],
   "execution_count": null,
   "outputs": []
  },
  {
   "cell_type": "code",
   "execution_count": null,
   "metadata": {},
   "outputs": [],
   "source": [
    "negf = pynegf.PyNegf()\n",
    "negf.set_hamiltonian(mat_csr)\n",
    "negf.set_identity_overlap(100)\n",
    "negf.init_structure(\n",
    "        ncont=2,\n",
    "        contend=numpy.array([79, 99]),\n",
    "        surfend=numpy.array([59, 79]),\n",
    "        plend=None,\n",
    "        cblk=None)"
   ]
  },
  {
   "cell_type": "markdown",
   "metadata": {},
   "source": [
    "After the system is defined, we set general input parameters. In this case it is important to set the real energy axis sampling of the transmission, i.e. the minimum and maximum energy and the step. Indices for Local Density of States are set with the method `set_dos_intervals`. \n",
    "\n",
    "Then we can solve the equilibrium Green's function problem by calling `solve_landauer`. "
   ],
   "execution_count": null,
   "outputs": []
  },
  {
   "cell_type": "code",
   "execution_count": null,
   "metadata": {},
   "outputs": [],
   "source": [
    "negf.params.emin = -3.0\n",
    "negf.params.emax = 3.0\n",
    "negf.params.estep = 0.01\n",
    "negf.set_params()\n",
    "negf.set_ldos_intervals(numpy.array([0, 30, 0]), numpy.array([59, 59, 29]))\n",
    "negf.solve_landauer()\n",
    "energies = negf.energies()\n",
    "trans = negf.transmission()\n",
    "ldos = negf.ldos()\n",
    "currents = negf.currents()"
   ]
  },
  {
   "cell_type": "markdown",
   "metadata": {},
   "source": [
    "The transmission should be a square function, ranging from 2 to +2. The transmission is stored as a 2D ndarray, where each row represent a different electrode pair. for the general N-electrodes case. In this case we only have one pair, therefore one row. "
   ],
   "execution_count": null,
   "outputs": []
  },
  {
   "cell_type": "code",
   "execution_count": null,
   "metadata": {},
   "outputs": [],
   "source": [
    "plt.plot(numpy.real(energies), trans[0, :])\n",
    "plt.show()"
   ]
  },
  {
   "cell_type": "markdown",
   "metadata": {},
   "source": [
    "The density of states should show 2 Van Hove singularities at -2 and 2"
   ],
   "execution_count": null,
   "outputs": []
  },
  {
   "cell_type": "code",
   "execution_count": null,
   "metadata": {},
   "outputs": [],
   "source": [
    "plt.figure()\n",
    "plt.plot(numpy.real(energies), ldos[0,:])\n",
    "plt.show()"
   ]
  },
  {
   "cell_type": "code",
   "execution_count": null,
   "metadata": {},
   "outputs": [],
   "source": []
  },
  {
   "cell_type": "code",
   "execution_count": null,
   "metadata": {},
   "outputs": [],
   "source": []
  }
 ],
 "metadata": {
  "kernelspec": {
   "display_name": "Python 3",
   "language": "python",
   "name": "python3"
  },
  "language_info": {
   "codemirror_mode": {
    "name": "ipython",
    "version": 3
   },
   "file_extension": ".py",
   "mimetype": "text/x-python",
   "name": "python",
   "nbconvert_exporter": "python",
   "pygments_lexer": "ipython3",
   "version": "3.7.6-final"
  }
 },
 "nbformat": 4,
 "nbformat_minor": 2
}