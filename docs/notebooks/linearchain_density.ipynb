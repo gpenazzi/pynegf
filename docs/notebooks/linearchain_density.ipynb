{
 "cells": [
  {
   "cell_type": "markdown",
   "metadata": {},
   "source": [
    "Equilibrium density in a linear chain\n",
    "======================================\n",
    "\n",
    "In this example we calculate the carrier density for a system at equilibrium. "
   ]
  },
  {
   "cell_type": "code",
   "execution_count": null,
   "metadata": {},
   "outputs": [],
   "source": [
    "import numpy\n",
    "import pynegf\n",
    "import scipy\n",
    "import matplotlib.pyplot as plt\n",
    "from scipy import sparse"
   ]
  },
  {
   "cell_type": "markdown",
   "metadata": {},
   "source": [
    "We define the hamiltonian for a linear chain similar to other example. We will use the minimum contact dimension, i.e. 2 sites. "
   ]
  },
  {
   "cell_type": "code",
   "execution_count": null,
   "metadata": {},
   "outputs": [],
   "source": [
    "def orthogonal_linear_chain(nsites=100, contact_size=2, coupling=1.0):\n",
    "    mat = numpy.zeros(shape=(nsites, nsites), dtype='complex128')\n",
    "\n",
    "    for i in range(nsites - contact_size):\n",
    "        mat[i - 1, i] = coupling\n",
    "    for i in range(nsites - contact_size, nsites):\n",
    "        mat[i - 1, i] = coupling\n",
    "    mat[0, nsites - contact_size] = coupling\n",
    "\n",
    "    mat_csr = sparse.csr_matrix(mat)\n",
    "    mat_csr = mat_csr + mat_csr.getH()\n",
    "    mat_csr.sort_indices()\n",
    "\n",
    "    return mat_csr\n",
    "\n",
    "mat_csr = orthogonal_linear_chain()"
   ]
  },
  {
   "cell_type": "markdown",
   "metadata": {},
   "source": [
    "We define the system structure in the same way as in the previous examples.  "
   ]
  },
  {
   "cell_type": "code",
   "execution_count": null,
   "metadata": {},
   "outputs": [],
   "source": [
    "negf = pynegf.PyNegf()\n",
    "negf.set_hamiltonian(mat_csr)\n",
    "negf.set_identity_overlap(100)\n",
    "negf.init_structure(\n",
    "        ncont=2,\n",
    "        contend=numpy.array([97, 99]),\n",
    "        surfend=numpy.array([95, 97]))"
   ]
  },
  {
   "cell_type": "markdown",
   "metadata": {},
   "source": [
    "Next, we set some parameters relevant for the density calculation. `libnegf` supports two different carrier representation: a full-band one where all carriers are electrons, and an electron-hole description suitable to split electron and hole densities in separate contributions. \n",
    "\n",
    "In this example we will use a full-band representation. In this case the density is evaluated using a complex contour integration (see [dftb manual](https://www.dftbplus.org/fileadmin/DFTBPLUS/public/dftbplus/latest/manual.pdf)). In particular, we need to specify the minimum energy used for the integration `ec`. This value should be lower than the lowest eigenvalue of the system. Other relevant parameters are `np_n[2]`, `n_poles`, `kbt_dm[ncontacts]` for equilibrium and `n_kt`, `np_real`, `min_or_max` for non-equilibrium. "
   ]
  },
  {
   "cell_type": "code",
   "execution_count": null,
   "metadata": {},
   "outputs": [],
   "source": [
    "negf.params.ec = -2.5\n",
    "negf.params.kbt_dm = (.001, .001)\n",
    "negf.params.g_spin = 2.0\n",
    "# Not correctly initialized, setting explicitely.\n",
    "negf.params.np_real = tuple([0] * 11)\n",
    "negf.params.verbose = 100\n",
    "negf.set_params()\n",
    "\n",
    "negf.solve_density()"
   ]
  },
  {
   "cell_type": "markdown",
   "metadata": {},
   "source": [
    "After solving the system we can retrieve the density matrix. Note that libnegf only computes density matrix elements which correspond to a finite overlap. In this we have an orthogonal representation, therefore we will obtain a diagnoal matrix. \n",
    "\n",
    "The system is ballistic and has one band going from -2 to +2. Therefore each site should be half-occupied. The spin-degeneracy is 2 and we expect to have a particle per site."
   ]
  },
  {
   "cell_type": "code",
   "execution_count": null,
   "metadata": {},
   "outputs": [],
   "source": [
    "density_matrix = negf.density_matrix()\n",
    "diagonal = numpy.real(density_matrix.diagonal())\n",
    "plt.plot(diagonal[:96])\n",
    "plt.show()"
   ]
  },
  {
   "cell_type": "markdown",
   "metadata": {},
   "source": [
    "We can get a less boring occupation if the system has some disorder. In this case we will expect the occupation to vary along the chain. We can introduce for example some Anderson disorder in the original hamiltonian, and tun the calculation again. Note that we can not add the noise in the contacts, or the periodic repetitions will not be recognized as such."
   ]
  },
  {
   "cell_type": "code",
   "execution_count": null,
   "metadata": {},
   "outputs": [],
   "source": [
    "noise = (numpy.random.rand(100) - 0.5)\n",
    "noise[76:] = 0.0 # Add noise only in the central region, leaving some additional sites near the contacts.\n",
    "noise[:26] = 0.0\n",
    "mat_csr.setdiag(mat_csr.diagonal() + noise)\n",
    "\n",
    "# We need to create a new instance when we reset hamiltonian and structure. \n",
    "negf = pynegf.PyNegf()\n",
    "negf.set_hamiltonian(mat_csr)\n",
    "negf.set_identity_overlap(100)\n",
    "negf.init_structure(\n",
    "        ncont=2,\n",
    "        contend=numpy.array([97, 99]),\n",
    "        surfend=numpy.array([95, 97]))\n",
    "negf.params.ec = -3.0\n",
    "negf.params.kbt_dm = (.001, .001)\n",
    "negf.params.g_spin = 2.0\n",
    "# Not correctly initialized, setting explicitely.\n",
    "negf.params.np_real = tuple([0] * 11)\n",
    "negf.params.verbose = 100\n",
    "\n",
    "negf.solve_density()"
   ]
  },
  {
   "cell_type": "code",
   "execution_count": null,
   "metadata": {},
   "outputs": [],
   "source": [
    "density_matrix = negf.density_matrix()\n",
    "diagonal = numpy.real(density_matrix.diagonal())\n",
    "plt.plot(diagonal[:96])\n",
    "plt.show()"
   ]
  },
  {
   "cell_type": "code",
   "execution_count": null,
   "metadata": {},
   "outputs": [],
   "source": []
  },
  {
   "cell_type": "code",
   "execution_count": null,
   "metadata": {},
   "outputs": [],
   "source": []
  }
 ],
 "metadata": {
  "kernelspec": {
   "display_name": "Python 3",
   "language": "python",
   "name": "python3"
  },
  "language_info": {
   "codemirror_mode": {
    "name": "ipython",
    "version": 3
   },
   "file_extension": ".py",
   "mimetype": "text/x-python",
   "name": "python",
   "nbconvert_exporter": "python",
   "pygments_lexer": "ipython3",
   "version": "3.7.6"
  }
 },
 "nbformat": 4,
 "nbformat_minor": 2
}
