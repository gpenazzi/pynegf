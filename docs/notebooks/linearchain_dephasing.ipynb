{
 "cells": [
  {
   "cell_type": "markdown",
   "metadata": {},
   "source": [
    "Current in a linear chain with dephasing model\n",
    "===============================================\n",
    "\n",
    "This example shows how to add a dephasing bath as described in [this paper](https://doi.org/10.1021/acs.jpcc.6b04185). We will use the same hamiltonian as in [Transmission of a linear chain](linearchain.html)"
   ]
  },
  {
   "cell_type": "code",
   "execution_count": null,
   "metadata": {},
   "outputs": [],
   "source": [
    "import numpy\n",
    "import pynegf\n",
    "import scipy\n",
    "import matplotlib.pyplot as plt\n",
    "from scipy import sparse"
   ]
  },
  {
   "cell_type": "code",
   "execution_count": null,
   "metadata": {},
   "outputs": [],
   "source": [
    "def orthogonal_linear_chain(nsites=100, contact_size=10, coupling=1.0):\n",
    "    mat = numpy.zeros(shape=(nsites, nsites), dtype='complex128')\n",
    "\n",
    "    for i in range(nsites - contact_size):\n",
    "        mat[i - 1, i] = coupling\n",
    "    for i in range(nsites - contact_size, nsites):\n",
    "        mat[i - 1, i] = coupling\n",
    "    mat[0, nsites - contact_size] = coupling\n",
    "\n",
    "    mat_csr = sparse.csr_matrix(mat)\n",
    "    mat_csr = mat_csr + mat_csr.conjugate(copy=True).transpose()\n",
    "    mat_csr.sort_indices()\n",
    "\n",
    "    return mat_csr\n",
    "\n",
    "mat_csr = orthogonal_linear_chain()"
   ]
  },
  {
   "cell_type": "code",
   "execution_count": null,
   "metadata": {},
   "outputs": [],
   "source": [
    "negf = pynegf.PyNegf()\n",
    "negf.set_hamiltonian(mat_csr)\n",
    "negf.set_identity_overlap(100)\n",
    "negf.init_structure(\n",
    "        ncont=2,\n",
    "        contend=numpy.array([89, 99]),\n",
    "        surfend=numpy.array([79, 89]),\n",
    "        plend=None,\n",
    "        cblk=None)"
   ]
  },
  {
   "cell_type": "markdown",
   "metadata": {},
   "source": [
    "When interactions are present, as in the case of dephasing, instead of the transmission we calculate energy resolved currents using the Meir-Wingreen formula. to visualize the current in a broad energy range, we set a very large chemical potential difference in the two electrodes.  "
   ]
  },
  {
   "cell_type": "code",
   "execution_count": null,
   "metadata": {},
   "outputs": [],
   "source": [
    "# Initialize parameters relevant for the transmission.\n",
    "negf.params.g_spin = 1\n",
    "negf.params.emin = -2.5\n",
    "negf.params.emax = 2.5\n",
    "negf.params.estep = 0.025\n",
    "negf.params.mu[0] = 2.1\n",
    "negf.params.mu[1] = -2.1\n",
    "negf.set_params()"
   ]
  },
  {
   "cell_type": "markdown",
   "metadata": {},
   "source": [
    "The dephasing model is activated with the method `set_elph_dephasing`"
   ]
  },
  {
   "cell_type": "code",
   "execution_count": null,
   "metadata": {},
   "outputs": [],
   "source": [
    "coupling = 0.05\n",
    "negf.set_diagonal_elph_dephasing(numpy.array([coupling]*80))\n",
    "\n",
    "negf.solve_landauer()\n",
    "energies = negf.energies()\n",
    "energy_resolved_current = negf.energy_current()"
   ]
  },
  {
   "cell_type": "markdown",
   "metadata": {},
   "source": [
    "The energy resolved current should resemble the transmission obtained in the balistic case, but the scattering introduced by the dephasing model will reduce the current below 1 (expressed in units of ballistic current). The effect is larger where the density of state is larger, i.e. near the band edges. "
   ]
  },
  {
   "cell_type": "code",
   "execution_count": null,
   "metadata": {},
   "outputs": [],
   "source": [
    "plt.plot(numpy.real(energies), energy_resolved_current[0, :])\n",
    "plt.show()"
   ]
  }
 ],
 "metadata": {
  "kernelspec": {
   "display_name": "Python 3",
   "language": "python",
   "name": "python3"
  },
  "language_info": {
   "codemirror_mode": {
    "name": "ipython",
    "version": 3
   },
   "file_extension": ".py",
   "mimetype": "text/x-python",
   "name": "python",
   "nbconvert_exporter": "python",
   "pygments_lexer": "ipython3",
   "version": "3.7.6"
  }
 },
 "nbformat": 4,
 "nbformat_minor": 2
}
